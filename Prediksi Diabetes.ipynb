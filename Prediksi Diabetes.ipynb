{
 "cells": [
  {
   "cell_type": "code",
   "execution_count": 1,
   "metadata": {
    "colab": {
     "base_uri": "https://localhost:8080/",
     "height": 330
    },
    "executionInfo": {
     "elapsed": 4239,
     "status": "ok",
     "timestamp": 1728966250758,
     "user": {
      "displayName": "Fahmi Mislahudin",
      "userId": "00493718010340997604"
     },
     "user_tz": -420
    },
    "id": "Kco_5vDGXWOv",
    "outputId": "59d6cadb-0dfc-464c-d6da-b2d102bbd8d4"
   },
   "outputs": [
    {
     "data": {
      "text/html": [
       "<div>\n",
       "<style scoped>\n",
       "    .dataframe tbody tr th:only-of-type {\n",
       "        vertical-align: middle;\n",
       "    }\n",
       "\n",
       "    .dataframe tbody tr th {\n",
       "        vertical-align: top;\n",
       "    }\n",
       "\n",
       "    .dataframe thead th {\n",
       "        text-align: right;\n",
       "    }\n",
       "</style>\n",
       "<table border=\"1\" class=\"dataframe\">\n",
       "  <thead>\n",
       "    <tr style=\"text-align: right;\">\n",
       "      <th></th>\n",
       "      <th>puskesmas</th>\n",
       "      <th>kelurahan</th>\n",
       "      <th>umur</th>\n",
       "      <th>jk</th>\n",
       "      <th>merokok</th>\n",
       "      <th>aktivitas_fisik</th>\n",
       "      <th>konsumsi_alkohol</th>\n",
       "      <th>tekanan_darah</th>\n",
       "      <th>bmi</th>\n",
       "      <th>lingkar_perut</th>\n",
       "      <th>pemeriksaan_gula</th>\n",
       "      <th>latitude</th>\n",
       "      <th>longitude</th>\n",
       "      <th>diagnosis</th>\n",
       "    </tr>\n",
       "  </thead>\n",
       "  <tbody>\n",
       "    <tr>\n",
       "      <th>0</th>\n",
       "      <td>Bogor Selatan</td>\n",
       "      <td>Pamoyanan</td>\n",
       "      <td>48.0</td>\n",
       "      <td>0</td>\n",
       "      <td>0</td>\n",
       "      <td>0</td>\n",
       "      <td>0</td>\n",
       "      <td>70.0</td>\n",
       "      <td>18.73</td>\n",
       "      <td>85.0</td>\n",
       "      <td>197</td>\n",
       "      <td>-6.640877</td>\n",
       "      <td>106.793165</td>\n",
       "      <td>1</td>\n",
       "    </tr>\n",
       "    <tr>\n",
       "      <th>1</th>\n",
       "      <td>Bogor Selatan</td>\n",
       "      <td>Pamoyanan</td>\n",
       "      <td>75.0</td>\n",
       "      <td>0</td>\n",
       "      <td>0</td>\n",
       "      <td>0</td>\n",
       "      <td>0</td>\n",
       "      <td>70.0</td>\n",
       "      <td>21.64</td>\n",
       "      <td>80.0</td>\n",
       "      <td>155</td>\n",
       "      <td>-6.640877</td>\n",
       "      <td>106.793165</td>\n",
       "      <td>1</td>\n",
       "    </tr>\n",
       "    <tr>\n",
       "      <th>2</th>\n",
       "      <td>Bogor Selatan</td>\n",
       "      <td>Pamoyanan</td>\n",
       "      <td>67.0</td>\n",
       "      <td>0</td>\n",
       "      <td>0</td>\n",
       "      <td>1</td>\n",
       "      <td>0</td>\n",
       "      <td>70.0</td>\n",
       "      <td>27.68</td>\n",
       "      <td>84.0</td>\n",
       "      <td>180</td>\n",
       "      <td>-6.640877</td>\n",
       "      <td>106.793165</td>\n",
       "      <td>1</td>\n",
       "    </tr>\n",
       "    <tr>\n",
       "      <th>3</th>\n",
       "      <td>Bogor Selatan</td>\n",
       "      <td>Ranggamekar</td>\n",
       "      <td>42.0</td>\n",
       "      <td>0</td>\n",
       "      <td>0</td>\n",
       "      <td>0</td>\n",
       "      <td>0</td>\n",
       "      <td>88.0</td>\n",
       "      <td>31.59</td>\n",
       "      <td>93.5</td>\n",
       "      <td>210</td>\n",
       "      <td>-6.624390</td>\n",
       "      <td>106.791912</td>\n",
       "      <td>1</td>\n",
       "    </tr>\n",
       "    <tr>\n",
       "      <th>4</th>\n",
       "      <td>Bogor Selatan</td>\n",
       "      <td>Ranggamekar</td>\n",
       "      <td>45.0</td>\n",
       "      <td>0</td>\n",
       "      <td>0</td>\n",
       "      <td>0</td>\n",
       "      <td>0</td>\n",
       "      <td>80.0</td>\n",
       "      <td>20.94</td>\n",
       "      <td>90.0</td>\n",
       "      <td>240</td>\n",
       "      <td>-6.624390</td>\n",
       "      <td>106.791912</td>\n",
       "      <td>1</td>\n",
       "    </tr>\n",
       "  </tbody>\n",
       "</table>\n",
       "</div>"
      ],
      "text/plain": [
       "       puskesmas    kelurahan  umur  jk  merokok  aktivitas_fisik  \\\n",
       "0  Bogor Selatan    Pamoyanan  48.0   0        0                0   \n",
       "1  Bogor Selatan    Pamoyanan  75.0   0        0                0   \n",
       "2  Bogor Selatan    Pamoyanan  67.0   0        0                1   \n",
       "3  Bogor Selatan  Ranggamekar  42.0   0        0                0   \n",
       "4  Bogor Selatan  Ranggamekar  45.0   0        0                0   \n",
       "\n",
       "   konsumsi_alkohol  tekanan_darah    bmi  lingkar_perut  pemeriksaan_gula  \\\n",
       "0                 0           70.0  18.73           85.0               197   \n",
       "1                 0           70.0  21.64           80.0               155   \n",
       "2                 0           70.0  27.68           84.0               180   \n",
       "3                 0           88.0  31.59           93.5               210   \n",
       "4                 0           80.0  20.94           90.0               240   \n",
       "\n",
       "   latitude   longitude  diagnosis  \n",
       "0 -6.640877  106.793165          1  \n",
       "1 -6.640877  106.793165          1  \n",
       "2 -6.640877  106.793165          1  \n",
       "3 -6.624390  106.791912          1  \n",
       "4 -6.624390  106.791912          1  "
      ]
     },
     "execution_count": 1,
     "metadata": {},
     "output_type": "execute_result"
    }
   ],
   "source": [
    "import pandas as pd\n",
    "import warnings\n",
    "warnings.filterwarnings(\"ignore\", category=FutureWarning)\n",
    "\n",
    "df = pd.read_csv('diabetes_skripsi.csv')\n",
    "df.head()"
   ]
  },
  {
   "cell_type": "code",
   "execution_count": 2,
   "metadata": {
    "id": "70Ja3mpWXqsu"
   },
   "outputs": [],
   "source": [
    "# Delete columns 'puskesmas', 'kelurahan', 'longitude', and 'latitude'\n",
    "df = df.drop(['puskesmas', 'kelurahan', 'longitude', 'latitude'], axis=1)"
   ]
  },
  {
   "cell_type": "code",
   "execution_count": 3,
   "metadata": {
    "colab": {
     "base_uri": "https://localhost:8080/"
    },
    "executionInfo": {
     "elapsed": 18,
     "status": "ok",
     "timestamp": 1728966250760,
     "user": {
      "displayName": "Fahmi Mislahudin",
      "userId": "00493718010340997604"
     },
     "user_tz": -420
    },
    "id": "ADY6I3TOXsgr",
    "outputId": "35dc1a17-8bb4-46e9-92b6-97995a2cf396"
   },
   "outputs": [
    {
     "name": "stdout",
     "output_type": "stream",
     "text": [
      "<class 'pandas.core.frame.DataFrame'>\n",
      "RangeIndex: 2091 entries, 0 to 2090\n",
      "Data columns (total 10 columns):\n",
      " #   Column            Non-Null Count  Dtype  \n",
      "---  ------            --------------  -----  \n",
      " 0   umur              2091 non-null   float64\n",
      " 1   jk                2091 non-null   int64  \n",
      " 2   merokok           2091 non-null   int64  \n",
      " 3   aktivitas_fisik   2091 non-null   int64  \n",
      " 4   konsumsi_alkohol  2091 non-null   int64  \n",
      " 5   tekanan_darah     2091 non-null   float64\n",
      " 6   bmi               2091 non-null   float64\n",
      " 7   lingkar_perut     2091 non-null   float64\n",
      " 8   pemeriksaan_gula  2091 non-null   int64  \n",
      " 9   diagnosis         2091 non-null   int64  \n",
      "dtypes: float64(4), int64(6)\n",
      "memory usage: 163.5 KB\n"
     ]
    }
   ],
   "source": [
    "df.info()"
   ]
  },
  {
   "cell_type": "code",
   "execution_count": 4,
   "metadata": {
    "colab": {
     "base_uri": "https://localhost:8080/"
    },
    "executionInfo": {
     "elapsed": 16,
     "status": "ok",
     "timestamp": 1728966250761,
     "user": {
      "displayName": "Fahmi Mislahudin",
      "userId": "00493718010340997604"
     },
     "user_tz": -420
    },
    "id": "Z3sY7i2fXvak",
    "outputId": "836e33fa-4f40-49d7-d3b6-8e03fa104b04"
   },
   "outputs": [
    {
     "name": "stdout",
     "output_type": "stream",
     "text": [
      "Index(['umur', 'jk', 'merokok', 'aktivitas_fisik', 'konsumsi_alkohol',\n",
      "       'tekanan_darah', 'bmi', 'lingkar_perut', 'pemeriksaan_gula',\n",
      "       'diagnosis'],\n",
      "      dtype='object')\n"
     ]
    }
   ],
   "source": [
    "print(df.columns)"
   ]
  },
  {
   "cell_type": "code",
   "execution_count": 5,
   "metadata": {
    "colab": {
     "base_uri": "https://localhost:8080/"
    },
    "executionInfo": {
     "elapsed": 36571,
     "status": "ok",
     "timestamp": 1728966287321,
     "user": {
      "displayName": "Fahmi Mislahudin",
      "userId": "00493718010340997604"
     },
     "user_tz": -420
    },
    "id": "HaQzjbiEX6nq",
    "outputId": "80a73cf3-1b05-4ead-f12f-b445fd3fee4c"
   },
   "outputs": [],
   "source": [
    "from imblearn.over_sampling import SMOTE\n",
    "from sklearn.model_selection import train_test_split\n",
    "from sklearn.preprocessing import MinMaxScaler\n",
    "from tensorflow.keras.models import Sequential\n",
    "from tensorflow.keras.layers import LSTM, Dense"
   ]
  },
  {
   "cell_type": "code",
   "execution_count": 6,
   "metadata": {},
   "outputs": [],
   "source": [
    "# Define features (X) and target (y)\n",
    "X = df.drop(['diagnosis'], axis=1)\n",
    "y = df['diagnosis']"
   ]
  },
  {
   "cell_type": "code",
   "execution_count": 7,
   "metadata": {},
   "outputs": [],
   "source": [
    "# Apply SMOTE\n",
    "smote = SMOTE(random_state=42)\n",
    "X_smote, y_smote = smote.fit_resample(X, y)"
   ]
  },
  {
   "cell_type": "code",
   "execution_count": 8,
   "metadata": {},
   "outputs": [],
   "source": [
    "# Split into training and test sets\n",
    "X_train, X_test, y_train, y_test = train_test_split(X_smote, y_smote, test_size=0.2, random_state=42)"
   ]
  },
  {
   "cell_type": "code",
   "execution_count": 9,
   "metadata": {},
   "outputs": [],
   "source": [
    "# Scale the data using MinMaxScaler\n",
    "scaler = MinMaxScaler()\n",
    "X_train = scaler.fit_transform(X_train)\n",
    "X_test = scaler.transform(X_test)"
   ]
  },
  {
   "cell_type": "code",
   "execution_count": 10,
   "metadata": {},
   "outputs": [],
   "source": [
    "# Reshape data for LSTM\n",
    "X_train = X_train.reshape((X_train.shape[0], 1, X_train.shape[1]))\n",
    "X_test = X_test.reshape((X_test.shape[0], 1, X_test.shape[1]))"
   ]
  },
  {
   "cell_type": "code",
   "execution_count": 11,
   "metadata": {},
   "outputs": [
    {
     "name": "stdout",
     "output_type": "stream",
     "text": [
      "Epoch 1/50\n",
      "51/51 [==============================] - 16s 59ms/step - loss: 0.6851 - accuracy: 0.5877 - val_loss: 0.6781 - val_accuracy: 0.6127\n",
      "Epoch 2/50\n",
      "51/51 [==============================] - 0s 9ms/step - loss: 0.6664 - accuracy: 0.6239 - val_loss: 0.6612 - val_accuracy: 0.6422\n",
      "Epoch 3/50\n",
      "51/51 [==============================] - 0s 8ms/step - loss: 0.6456 - accuracy: 0.6276 - val_loss: 0.6384 - val_accuracy: 0.6495\n",
      "Epoch 4/50\n",
      "51/51 [==============================] - 0s 8ms/step - loss: 0.6206 - accuracy: 0.6399 - val_loss: 0.6062 - val_accuracy: 0.7255\n",
      "Epoch 5/50\n",
      "51/51 [==============================] - 0s 9ms/step - loss: 0.5916 - accuracy: 0.7098 - val_loss: 0.5718 - val_accuracy: 0.7574\n",
      "Epoch 6/50\n",
      "51/51 [==============================] - 0s 9ms/step - loss: 0.5556 - accuracy: 0.7350 - val_loss: 0.5329 - val_accuracy: 0.7549\n",
      "Epoch 7/50\n",
      "51/51 [==============================] - 0s 9ms/step - loss: 0.5125 - accuracy: 0.7620 - val_loss: 0.4845 - val_accuracy: 0.7892\n",
      "Epoch 8/50\n",
      "51/51 [==============================] - 0s 9ms/step - loss: 0.4643 - accuracy: 0.7939 - val_loss: 0.4312 - val_accuracy: 0.8652\n",
      "Epoch 9/50\n",
      "51/51 [==============================] - 0s 8ms/step - loss: 0.4148 - accuracy: 0.8632 - val_loss: 0.3793 - val_accuracy: 0.9216\n",
      "Epoch 10/50\n",
      "51/51 [==============================] - 1s 10ms/step - loss: 0.3663 - accuracy: 0.9074 - val_loss: 0.3442 - val_accuracy: 0.9387\n",
      "Epoch 11/50\n",
      "51/51 [==============================] - 1s 12ms/step - loss: 0.3232 - accuracy: 0.9221 - val_loss: 0.2887 - val_accuracy: 0.9314\n",
      "Epoch 12/50\n",
      "51/51 [==============================] - 1s 11ms/step - loss: 0.2900 - accuracy: 0.9202 - val_loss: 0.2586 - val_accuracy: 0.9485\n",
      "Epoch 13/50\n",
      "51/51 [==============================] - 1s 11ms/step - loss: 0.2591 - accuracy: 0.9313 - val_loss: 0.2346 - val_accuracy: 0.9632\n",
      "Epoch 14/50\n",
      "51/51 [==============================] - 1s 11ms/step - loss: 0.2359 - accuracy: 0.9350 - val_loss: 0.2077 - val_accuracy: 0.9583\n",
      "Epoch 15/50\n",
      "51/51 [==============================] - 0s 9ms/step - loss: 0.2166 - accuracy: 0.9387 - val_loss: 0.1883 - val_accuracy: 0.9583\n",
      "Epoch 16/50\n",
      "51/51 [==============================] - 0s 9ms/step - loss: 0.1988 - accuracy: 0.9337 - val_loss: 0.1719 - val_accuracy: 0.9583\n",
      "Epoch 17/50\n",
      "51/51 [==============================] - 1s 13ms/step - loss: 0.1852 - accuracy: 0.9429 - val_loss: 0.1662 - val_accuracy: 0.9828\n",
      "Epoch 18/50\n",
      "51/51 [==============================] - 1s 11ms/step - loss: 0.1734 - accuracy: 0.9436 - val_loss: 0.1481 - val_accuracy: 0.9657\n",
      "Epoch 19/50\n",
      "51/51 [==============================] - 1s 13ms/step - loss: 0.1626 - accuracy: 0.9564 - val_loss: 0.1378 - val_accuracy: 0.9534\n",
      "Epoch 20/50\n",
      "51/51 [==============================] - 1s 14ms/step - loss: 0.1551 - accuracy: 0.9528 - val_loss: 0.1303 - val_accuracy: 0.9632\n",
      "Epoch 21/50\n",
      "51/51 [==============================] - 1s 14ms/step - loss: 0.1461 - accuracy: 0.9558 - val_loss: 0.1242 - val_accuracy: 0.9779\n",
      "Epoch 22/50\n",
      "51/51 [==============================] - 1s 11ms/step - loss: 0.1421 - accuracy: 0.9595 - val_loss: 0.1161 - val_accuracy: 0.9779\n",
      "Epoch 23/50\n",
      "51/51 [==============================] - 1s 12ms/step - loss: 0.1330 - accuracy: 0.9693 - val_loss: 0.1108 - val_accuracy: 0.9681\n",
      "Epoch 24/50\n",
      "51/51 [==============================] - 1s 11ms/step - loss: 0.1295 - accuracy: 0.9601 - val_loss: 0.1051 - val_accuracy: 0.9779\n",
      "Epoch 25/50\n",
      "51/51 [==============================] - 1s 11ms/step - loss: 0.1252 - accuracy: 0.9632 - val_loss: 0.1110 - val_accuracy: 0.9926\n",
      "Epoch 26/50\n",
      "51/51 [==============================] - 1s 11ms/step - loss: 0.1198 - accuracy: 0.9712 - val_loss: 0.0976 - val_accuracy: 0.9804\n",
      "Epoch 27/50\n",
      "51/51 [==============================] - 1s 11ms/step - loss: 0.1140 - accuracy: 0.9693 - val_loss: 0.0935 - val_accuracy: 0.9804\n",
      "Epoch 28/50\n",
      "51/51 [==============================] - 1s 12ms/step - loss: 0.1104 - accuracy: 0.9755 - val_loss: 0.0939 - val_accuracy: 0.9828\n",
      "Epoch 29/50\n",
      "51/51 [==============================] - 1s 15ms/step - loss: 0.1065 - accuracy: 0.9736 - val_loss: 0.0861 - val_accuracy: 0.9804\n",
      "Epoch 30/50\n",
      "51/51 [==============================] - 1s 13ms/step - loss: 0.1041 - accuracy: 0.9767 - val_loss: 0.0829 - val_accuracy: 0.9828\n",
      "Epoch 31/50\n",
      "51/51 [==============================] - 1s 21ms/step - loss: 0.1001 - accuracy: 0.9761 - val_loss: 0.0806 - val_accuracy: 0.9828\n",
      "Epoch 32/50\n",
      "51/51 [==============================] - 1s 19ms/step - loss: 0.0977 - accuracy: 0.9791 - val_loss: 0.0796 - val_accuracy: 0.9779\n",
      "Epoch 33/50\n",
      "51/51 [==============================] - 1s 11ms/step - loss: 0.0942 - accuracy: 0.9755 - val_loss: 0.0750 - val_accuracy: 0.9828\n",
      "Epoch 34/50\n",
      "51/51 [==============================] - 1s 12ms/step - loss: 0.0915 - accuracy: 0.9804 - val_loss: 0.0739 - val_accuracy: 0.9828\n",
      "Epoch 35/50\n",
      "51/51 [==============================] - 0s 10ms/step - loss: 0.0894 - accuracy: 0.9828 - val_loss: 0.0705 - val_accuracy: 0.9828\n",
      "Epoch 36/50\n",
      "51/51 [==============================] - 1s 12ms/step - loss: 0.0871 - accuracy: 0.9816 - val_loss: 0.0686 - val_accuracy: 0.9828\n",
      "Epoch 37/50\n",
      "51/51 [==============================] - 0s 9ms/step - loss: 0.0863 - accuracy: 0.9804 - val_loss: 0.0686 - val_accuracy: 0.9828\n",
      "Epoch 38/50\n",
      "51/51 [==============================] - 1s 11ms/step - loss: 0.0832 - accuracy: 0.9822 - val_loss: 0.0651 - val_accuracy: 0.9828\n",
      "Epoch 39/50\n",
      "51/51 [==============================] - 1s 11ms/step - loss: 0.0815 - accuracy: 0.9816 - val_loss: 0.0629 - val_accuracy: 0.9828\n",
      "Epoch 40/50\n",
      "51/51 [==============================] - 1s 12ms/step - loss: 0.0788 - accuracy: 0.9822 - val_loss: 0.0625 - val_accuracy: 0.9828\n",
      "Epoch 41/50\n",
      "51/51 [==============================] - 1s 14ms/step - loss: 0.0779 - accuracy: 0.9847 - val_loss: 0.0593 - val_accuracy: 0.9828\n",
      "Epoch 42/50\n",
      "51/51 [==============================] - 1s 12ms/step - loss: 0.0749 - accuracy: 0.9840 - val_loss: 0.0602 - val_accuracy: 0.9926\n",
      "Epoch 43/50\n",
      "51/51 [==============================] - 1s 11ms/step - loss: 0.0745 - accuracy: 0.9847 - val_loss: 0.0611 - val_accuracy: 0.9828\n",
      "Epoch 44/50\n",
      "51/51 [==============================] - 1s 14ms/step - loss: 0.0749 - accuracy: 0.9816 - val_loss: 0.0568 - val_accuracy: 0.9877\n",
      "Epoch 45/50\n",
      "51/51 [==============================] - 1s 10ms/step - loss: 0.0708 - accuracy: 0.9853 - val_loss: 0.0545 - val_accuracy: 0.9828\n",
      "Epoch 46/50\n",
      "51/51 [==============================] - 1s 12ms/step - loss: 0.0708 - accuracy: 0.9810 - val_loss: 0.0535 - val_accuracy: 0.9853\n",
      "Epoch 47/50\n",
      "51/51 [==============================] - 1s 11ms/step - loss: 0.0690 - accuracy: 0.9871 - val_loss: 0.0522 - val_accuracy: 0.9853\n",
      "Epoch 48/50\n",
      "51/51 [==============================] - 1s 11ms/step - loss: 0.0683 - accuracy: 0.9834 - val_loss: 0.0509 - val_accuracy: 0.9877\n",
      "Epoch 49/50\n",
      "51/51 [==============================] - 0s 10ms/step - loss: 0.0661 - accuracy: 0.9877 - val_loss: 0.0491 - val_accuracy: 0.9853\n",
      "Epoch 50/50\n",
      "51/51 [==============================] - 1s 12ms/step - loss: 0.0637 - accuracy: 0.9865 - val_loss: 0.0498 - val_accuracy: 0.9877\n"
     ]
    },
    {
     "data": {
      "text/plain": [
       "<keras.src.callbacks.History at 0x1c0f8bbb950>"
      ]
     },
     "execution_count": 11,
     "metadata": {},
     "output_type": "execute_result"
    }
   ],
   "source": [
    "# Build the LSTM model\n",
    "model = Sequential()\n",
    "model.add(LSTM(units=50, input_shape=(X_train.shape[1], X_train.shape[2])))\n",
    "model.add(Dense(units=1, activation='sigmoid'))\n",
    "\n",
    "# Compile the model\n",
    "model.compile(loss='binary_crossentropy', optimizer='adam', metrics=['accuracy'])\n",
    "\n",
    "# Train the model\n",
    "model.fit(X_train, y_train, epochs=50, batch_size=32, validation_split=0.2, verbose=1)"
   ]
  },
  {
   "cell_type": "code",
   "execution_count": 12,
   "metadata": {},
   "outputs": [
    {
     "name": "stdout",
     "output_type": "stream",
     "text": [
      "Test Accuracy: 0.9764705896377563\n"
     ]
    }
   ],
   "source": [
    "# Evaluate the model\n",
    "test_loss, test_accuracy = model.evaluate(X_test, y_test, verbose=0)\n",
    "print(f\"Test Accuracy: {test_accuracy}\")"
   ]
  },
  {
   "cell_type": "code",
   "execution_count": 13,
   "metadata": {
    "colab": {
     "base_uri": "https://localhost:8080/"
    },
    "executionInfo": {
     "elapsed": 811,
     "status": "ok",
     "timestamp": 1728966288126,
     "user": {
      "displayName": "Fahmi Mislahudin",
      "userId": "00493718010340997604"
     },
     "user_tz": -420
    },
    "id": "H5Pa_HysYWod",
    "outputId": "74a04177-ed46-40b0-954e-c47e01991f5b"
   },
   "outputs": [
    {
     "name": "stdout",
     "output_type": "stream",
     "text": [
      "16/16 [==============================] - 2s 5ms/step\n",
      "Mean Absolute Error (MAE): 0.05863835963254685\n",
      "Root Mean Squared Error (RMSE): 0.13048514383333157\n"
     ]
    }
   ],
   "source": [
    "from sklearn.metrics import mean_absolute_error, mean_squared_error\n",
    "import numpy as np\n",
    "\n",
    "# Setelah model dilatih, kita lakukan prediksi pada test set\n",
    "y_pred_prob = model.predict(X_test)\n",
    "\n",
    "# Konversi prediksi probabilitas menjadi nilai kelas biner (0 atau 1)\n",
    "y_pred = (y_pred_prob > 0.5).astype(\"int32\")\n",
    "\n",
    "# Hitung MAE, RMSE, dan MAPE berdasarkan probabilitas prediksi\n",
    "mae = mean_absolute_error(y_test, y_pred_prob)\n",
    "rmse = np.sqrt(mean_squared_error(y_test, y_pred_prob))\n",
    "\n",
    "\n",
    "# Print hasil evaluasi\n",
    "print(f\"Mean Absolute Error (MAE): {mae}\")\n",
    "print(f\"Root Mean Squared Error (RMSE): {rmse}\")"
   ]
  },
  {
   "cell_type": "code",
   "execution_count": 14,
   "metadata": {
    "colab": {
     "base_uri": "https://localhost:8080/"
    },
    "executionInfo": {
     "elapsed": 31,
     "status": "ok",
     "timestamp": 1728966288126,
     "user": {
      "displayName": "Fahmi Mislahudin",
      "userId": "00493718010340997604"
     },
     "user_tz": -420
    },
    "id": "W0B4CZpqalq5",
    "outputId": "fc514e4b-b62a-42d2-de1a-f1aadebe26af"
   },
   "outputs": [
    {
     "name": "stdout",
     "output_type": "stream",
     "text": [
      "Accuracy: 0.9764705882352941\n",
      "Precision: 1.0\n",
      "Recall: 0.9512195121951219\n",
      "F1 Score: 0.975\n",
      "\n",
      "Classification Report:\n",
      "              precision    recall  f1-score   support\n",
      "\n",
      "           0       0.96      1.00      0.98       264\n",
      "           1       1.00      0.95      0.97       246\n",
      "\n",
      "    accuracy                           0.98       510\n",
      "   macro avg       0.98      0.98      0.98       510\n",
      "weighted avg       0.98      0.98      0.98       510\n",
      "\n"
     ]
    }
   ],
   "source": [
    "from sklearn.metrics import accuracy_score, precision_score, recall_score, f1_score, classification_report\n",
    "\n",
    "# Menghitung metrik klasifikasi\n",
    "accuracy = accuracy_score(y_test, y_pred)\n",
    "precision = precision_score(y_test, y_pred)\n",
    "recall = recall_score(y_test, y_pred)\n",
    "f1 = f1_score(y_test, y_pred)\n",
    "\n",
    "# Menampilkan hasil\n",
    "print(f\"Accuracy: {accuracy}\")\n",
    "print(f\"Precision: {precision}\")\n",
    "print(f\"Recall: {recall}\")\n",
    "print(f\"F1 Score: {f1}\")\n",
    "\n",
    "# Optional: Tampilkan laporan klasifikasi\n",
    "print(\"\\nClassification Report:\")\n",
    "print(classification_report(y_test, y_pred))\n"
   ]
  },
  {
   "cell_type": "code",
   "execution_count": 15,
   "metadata": {
    "colab": {
     "base_uri": "https://localhost:8080/"
    },
    "executionInfo": {
     "elapsed": 28,
     "status": "ok",
     "timestamp": 1728966288127,
     "user": {
      "displayName": "Fahmi Mislahudin",
      "userId": "00493718010340997604"
     },
     "user_tz": -420
    },
    "id": "UWBHCsDtYe3S",
    "outputId": "58353927-e03a-4bc9-81f5-ebbb71f24482"
   },
   "outputs": [
    {
     "name": "stderr",
     "output_type": "stream",
     "text": [
      "C:\\Users\\Soke\\anaconda3\\envs\\tensorflow\\Lib\\site-packages\\sklearn\\base.py:439: UserWarning: X does not have valid feature names, but MinMaxScaler was fitted with feature names\n",
      "  warnings.warn(\n"
     ]
    },
    {
     "name": "stdout",
     "output_type": "stream",
     "text": [
      "1/1 [==============================] - 0s 294ms/step\n",
      "Probabilitas Diabetes: 0.03010779246687889\n",
      "Prediksi Kelas: 0\n"
     ]
    }
   ],
   "source": [
    "# Misalkan data baru dalam bentuk array atau dataframe\n",
    "new_data = np.array([[39, 1, 0, 0, 0, 92, 23.07, 90, 106]])\n",
    "\n",
    "# Scale data baru dengan scaler yang sama yang digunakan pada data pelatihan\n",
    "new_data_scaled = scaler.transform(new_data)\n",
    "\n",
    "# Reshape data baru untuk menyesuaikan input LSTM (samples, timesteps, features)\n",
    "new_data_scaled = new_data_scaled.reshape((new_data_scaled.shape[0], 1, new_data_scaled.shape[1]))\n",
    "\n",
    "# Prediksi probabilitas diabetes dengan model yang sudah dilatih\n",
    "new_prediction_prob = model.predict(new_data_scaled)\n",
    "\n",
    "# Konversi probabilitas ke prediksi kelas (0 atau 1)\n",
    "new_prediction_class = (new_prediction_prob > 0.5).astype(\"int32\")\n",
    "\n",
    "# Tampilkan hasil prediksi\n",
    "print(f\"Probabilitas Diabetes: {new_prediction_prob[0][0]}\")\n",
    "print(f\"Prediksi Kelas: {new_prediction_class[0][0]}\")  # 1: Diabetes, 0: Non-Diabetes"
   ]
  },
  {
   "cell_type": "code",
   "execution_count": 16,
   "metadata": {},
   "outputs": [],
   "source": [
    "# Setelah melatih, simpan model LSTM dalam format SavedModel\n",
    "# model.save('model_lstm_saved', save_format='tf')\n",
    "# model.save('model_lstm_saved.h5')"
   ]
  },
  {
   "cell_type": "code",
   "execution_count": 17,
   "metadata": {},
   "outputs": [],
   "source": [
    "# import joblib\n",
    "\n",
    "# # Simpan scaler ke file .pkl\n",
    "# joblib.dump(scaler, 'scaler.pkl')"
   ]
  },
  {
   "cell_type": "code",
   "execution_count": 19,
   "metadata": {},
   "outputs": [],
   "source": [
    "import pickle\n",
    "\n",
    "with open('model.pkl', 'wb') as file:\n",
    "    pickle.dump(model, file)"
   ]
  },
  {
   "cell_type": "code",
   "execution_count": 20,
   "metadata": {},
   "outputs": [],
   "source": [
    "with open('scaler.pkl', 'wb') as f:\n",
    "    pickle.dump(scaler, f)"
   ]
  },
  {
   "cell_type": "code",
   "execution_count": null,
   "metadata": {},
   "outputs": [],
   "source": []
  }
 ],
 "metadata": {
  "colab": {
   "authorship_tag": "ABX9TyMV8wHFQUWpwLaq7mVlGSP8",
   "provenance": []
  },
  "kernelspec": {
   "display_name": "Python 3 (ipykernel)",
   "language": "python",
   "name": "python3"
  },
  "language_info": {
   "codemirror_mode": {
    "name": "ipython",
    "version": 3
   },
   "file_extension": ".py",
   "mimetype": "text/x-python",
   "name": "python",
   "nbconvert_exporter": "python",
   "pygments_lexer": "ipython3",
   "version": "3.11.5"
  }
 },
 "nbformat": 4,
 "nbformat_minor": 1
}
